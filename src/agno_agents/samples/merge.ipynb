{
 "cells": [
  {
   "cell_type": "code",
   "execution_count": 39,
   "metadata": {},
   "outputs": [],
   "source": [
    "import json"
   ]
  },
  {
   "cell_type": "code",
   "execution_count": 40,
   "metadata": {},
   "outputs": [],
   "source": [
    "file_path = \"POI_data.json\"\n",
    "\n",
    "# Read the JSON file\n",
    "with open(file_path, \"r\", encoding=\"utf-8\") as file:\n",
    "    data = json.load(file)"
   ]
  },
  {
   "cell_type": "code",
   "execution_count": 66,
   "metadata": {},
   "outputs": [
    {
     "data": {
      "text/plain": [
       "{'Query': 'What can I do in Singapore in 2 days if I love shopping and modern city vibes? I’d actually favour sweet stuff in general. Budget is 180 SGD.',\n",
       " 'Hawker': [{'Hawker Name': 'Ah Seah Traditional Popiah',\n",
       "   'Dish Name': 'Traditional Popiah',\n",
       "   'Description': 'A delightful sweet-and-savory dessert that offers a unique finish to your meal.',\n",
       "   'Satisfaction Score': 4.5,\n",
       "   'Rating': 4.5,\n",
       "   'Avg Food Price': 3.8,\n",
       "   'Duration': 60,\n",
       "   'Sources': ['https://www.ahchewdesserts.com/our-menu/',\n",
       "    'https://menuprices.sg/ah-chew-desserts-menu/']},\n",
       "  {'Hawker Name': 'Punggol Nasi Lemak',\n",
       "   'Dish Name': 'Nasi Lemak',\n",
       "   'Description': 'Fragrant coconut rice paired with crispy fried chicken, spicy sambal, and crunchy anchovies.',\n",
       "   'Satisfaction Score': 4.3,\n",
       "   'Rating': 4.3,\n",
       "   'Avg Food Price': 5.0,\n",
       "   'Duration': 60,\n",
       "   'Sources': ['https://www.ponggolnasilemak.com.sg/',\n",
       "    'https://sgmenuprice.net/ponggol-nasi-lemak-menu/']},\n",
       "  {'Hawker Name': 'Chinatown Complex Food Centre',\n",
       "   'Dish Name': 'Yong Tau Foo',\n",
       "   'Description': 'A bowl of Yong Tau Foo with bee hoon or noodles, topped with fragrant ikan bilis.',\n",
       "   'Satisfaction Score': 4.2,\n",
       "   'Rating': 4.2,\n",
       "   'Avg Food Price': 4.0,\n",
       "   'Duration': 60,\n",
       "   'Sources': ['https://eatbook.sg/chinatown-complex-food/',\n",
       "    'https://danielfooddiary.com/2025/01/25/chinatowncomplex/']},\n",
       "  {'Hawker Name': 'Tangs Market',\n",
       "   'Dish Name': 'Chili Ban Mian',\n",
       "   'Description': 'A bowl of noodles with a rich chili sauce, offering a spicy kick.',\n",
       "   'Satisfaction Score': 4.0,\n",
       "   'Rating': 4.0,\n",
       "   'Avg Food Price': 5.0,\n",
       "   'Duration': 60,\n",
       "   'Sources': ['https://www.yelp.com/biz/tangs-market-singapore',\n",
       "    'https://www.pricelisto.com/menu-prices/tangs-market-sg']},\n",
       "  {'Hawker Name': 'Singapore Zam Zam Restaurant',\n",
       "   'Dish Name': 'Murtabak',\n",
       "   'Description': 'A savory stuffed pancake filled with spiced meat, a popular Indian-Muslim dish.',\n",
       "   'Satisfaction Score': 4.6,\n",
       "   'Rating': 4.6,\n",
       "   'Avg Food Price': 6.0,\n",
       "   'Duration': 60,\n",
       "   'Sources': ['https://eatzeely.com/zam-zam-restaurant-menu-prices-singapore/',\n",
       "    'https://www.singmenu.com/zam-zam-restaurant-menu/']}],\n",
       " 'Attraction': [{'Attraction Name': 'Suntec City Shopping Centre',\n",
       "   'Description': \"Suntec City is a major shopping destination in Singapore, offering a wide range of retail, dining, and entertainment options. It's perfect for shopping enthusiasts looking to explore a variety of stores and enjoy the vibrant city atmosphere.\",\n",
       "   'Rating': 4.0,\n",
       "   'Satisfaction Score': 4.0,\n",
       "   'Entrance Fee': 0.0,\n",
       "   'Duration': 120,\n",
       "   'Sources': ['https://en.wikipedia.org/wiki/Suntec_City',\n",
       "    'https://sunteccity.com.sg/',\n",
       "    'https://www.tripadvisor.com.sg/Attraction_Review-g294265-d317398-Reviews-Suntec_City-Singapore.html']},\n",
       "  {'Attraction Name': 'Clarke Quay',\n",
       "   'Description': \"Clarke Quay is a historical riverside quay in Singapore, known for its vibrant nightlife and dining options. It's a great spot for those who enjoy modern city vibes and want to experience Singapore's lively atmosphere.\",\n",
       "   'Rating': 4.3,\n",
       "   'Satisfaction Score': 4.3,\n",
       "   'Entrance Fee': 0.0,\n",
       "   'Duration': 120,\n",
       "   'Sources': ['https://forevervacation.com/singapore/clarke-quay',\n",
       "    'https://www.tripadvisor.com.sg/Attraction_Review-g294265-d324756-Reviews-Clarke_Quay-Singapore.html']},\n",
       "  {'Attraction Name': 'ArtScience Museum',\n",
       "   'Description': \"Located at Marina Bay Sands, the ArtScience Museum is known for its unique architecture and fascinating exhibitions that blend art, science, culture, and technology. It's ideal for those who appreciate modern art and innovative displays.\",\n",
       "   'Rating': 4.1,\n",
       "   'Satisfaction Score': 4.1,\n",
       "   'Entrance Fee': 22.0,\n",
       "   'Duration': 120,\n",
       "   'Sources': ['https://www.marinabaysands.com/museum/ticket/search.html',\n",
       "    'https://www.tripadvisor.com.sg/Attraction_Review-g294265-d2138895-Reviews-ArtScience_Museum_at_Marina_Bay_Sands-Singapore.html']},\n",
       "  {'Attraction Name': 'National Gallery Singapore',\n",
       "   'Description': \"The National Gallery Singapore houses the largest public collection of modern art in Southeast Asia. It's perfect for art lovers and those interested in exploring Singapore's cultural heritage through art.\",\n",
       "   'Rating': 4.4,\n",
       "   'Satisfaction Score': 4.4,\n",
       "   'Entrance Fee': 25.0,\n",
       "   'Duration': 120,\n",
       "   'Sources': ['https://www.nationalgallery.sg/sg/en/visit/visitor-information.html',\n",
       "    'https://www.tripadvisor.com.sg/Attraction_Review-g294265-d8077179-Reviews-National_Gallery_Singapore-Singapore.html']}],\n",
       " 'Metrics': {'Hawker Agent Time (s)': 24.72,\n",
       "  'Attraction Agent Time (s)': 20.03}}"
      ]
     },
     "execution_count": 66,
     "metadata": {},
     "output_type": "execute_result"
    }
   ],
   "source": [
    "data"
   ]
  },
  {
   "cell_type": "code",
   "execution_count": 42,
   "metadata": {},
   "outputs": [
    {
     "data": {
      "text/plain": [
       "dict_keys(['Query', 'Hawker', 'Attraction', 'Metrics'])"
      ]
     },
     "execution_count": 42,
     "metadata": {},
     "output_type": "execute_result"
    }
   ],
   "source": [
    "data.keys()"
   ]
  },
  {
   "cell_type": "code",
   "execution_count": 43,
   "metadata": {},
   "outputs": [
    {
     "name": "stdout",
     "output_type": "stream",
     "text": [
      "Query\n",
      "Hawker\n",
      "Attraction\n",
      "Metrics\n"
     ]
    }
   ],
   "source": [
    "for entry in data:\n",
    "    print(entry)"
   ]
  },
  {
   "cell_type": "code",
   "execution_count": 44,
   "metadata": {},
   "outputs": [
    {
     "data": {
      "text/plain": [
       "['Ah Seah Traditional Popiah',\n",
       " 'Punggol Nasi Lemak',\n",
       " 'Chinatown Complex Food Centre',\n",
       " 'Tangs Market',\n",
       " 'Singapore Zam Zam Restaurant']"
      ]
     },
     "execution_count": 44,
     "metadata": {},
     "output_type": "execute_result"
    }
   ],
   "source": [
    "hawker_names_llm = [entry['Hawker Name'] for entry in data[\"Hawker\"]]\n",
    "hawker_names_llm"
   ]
  },
  {
   "cell_type": "code",
   "execution_count": 55,
   "metadata": {},
   "outputs": [
    {
     "data": {
      "text/plain": [
       "['Suntec City Shopping Centre',\n",
       " 'Clarke Quay',\n",
       " 'ArtScience Museum',\n",
       " 'National Gallery Singapore']"
      ]
     },
     "execution_count": 55,
     "metadata": {},
     "output_type": "execute_result"
    }
   ],
   "source": [
    "attraction_names_llm = [entry['Attraction Name'] for entry in data[\"Attraction\"]]\n",
    "attraction_names_llm"
   ]
  },
  {
   "cell_type": "code",
   "execution_count": 45,
   "metadata": {},
   "outputs": [],
   "source": [
    "import pandas as pd"
   ]
  },
  {
   "cell_type": "code",
   "execution_count": 46,
   "metadata": {},
   "outputs": [
    {
     "data": {
      "text/html": [
       "<div>\n",
       "<style scoped>\n",
       "    .dataframe tbody tr th:only-of-type {\n",
       "        vertical-align: middle;\n",
       "    }\n",
       "\n",
       "    .dataframe tbody tr th {\n",
       "        vertical-align: top;\n",
       "    }\n",
       "\n",
       "    .dataframe thead th {\n",
       "        text-align: right;\n",
       "    }\n",
       "</style>\n",
       "<table border=\"1\" class=\"dataframe\">\n",
       "  <thead>\n",
       "    <tr style=\"text-align: right;\">\n",
       "      <th></th>\n",
       "      <th>No.</th>\n",
       "      <th>Attraction Name</th>\n",
       "      <th>Typical Expenditure (SGD)</th>\n",
       "      <th>Typical Time Spent (hours)</th>\n",
       "      <th>Family Tourist</th>\n",
       "      <th>Backpacker</th>\n",
       "      <th>Influencer</th>\n",
       "      <th>Cultural Enthusiast</th>\n",
       "      <th>Thrill Seeker</th>\n",
       "      <th>Nature Lover</th>\n",
       "      <th>Shopping Enthusiast</th>\n",
       "    </tr>\n",
       "  </thead>\n",
       "  <tbody>\n",
       "    <tr>\n",
       "      <th>0</th>\n",
       "      <td>1</td>\n",
       "      <td>Gardens by the Bay</td>\n",
       "      <td>28</td>\n",
       "      <td>3.0</td>\n",
       "      <td>8</td>\n",
       "      <td>7</td>\n",
       "      <td>9</td>\n",
       "      <td>1</td>\n",
       "      <td>1</td>\n",
       "      <td>10</td>\n",
       "      <td>1</td>\n",
       "    </tr>\n",
       "    <tr>\n",
       "      <th>1</th>\n",
       "      <td>2</td>\n",
       "      <td>Marina Bay Sands SkyPark Observation Deck</td>\n",
       "      <td>26</td>\n",
       "      <td>1.0</td>\n",
       "      <td>9</td>\n",
       "      <td>6</td>\n",
       "      <td>9</td>\n",
       "      <td>7</td>\n",
       "      <td>6</td>\n",
       "      <td>7</td>\n",
       "      <td>7</td>\n",
       "    </tr>\n",
       "    <tr>\n",
       "      <th>2</th>\n",
       "      <td>3</td>\n",
       "      <td>Singapore Zoo</td>\n",
       "      <td>50</td>\n",
       "      <td>4.0</td>\n",
       "      <td>9</td>\n",
       "      <td>6</td>\n",
       "      <td>8</td>\n",
       "      <td>7</td>\n",
       "      <td>1</td>\n",
       "      <td>7</td>\n",
       "      <td>1</td>\n",
       "    </tr>\n",
       "    <tr>\n",
       "      <th>3</th>\n",
       "      <td>4</td>\n",
       "      <td>River Wonders</td>\n",
       "      <td>40</td>\n",
       "      <td>3.0</td>\n",
       "      <td>8</td>\n",
       "      <td>1</td>\n",
       "      <td>8</td>\n",
       "      <td>1</td>\n",
       "      <td>1</td>\n",
       "      <td>1</td>\n",
       "      <td>1</td>\n",
       "    </tr>\n",
       "    <tr>\n",
       "      <th>4</th>\n",
       "      <td>5</td>\n",
       "      <td>Bird Paradise</td>\n",
       "      <td>38</td>\n",
       "      <td>3.0</td>\n",
       "      <td>8</td>\n",
       "      <td>1</td>\n",
       "      <td>9</td>\n",
       "      <td>1</td>\n",
       "      <td>6</td>\n",
       "      <td>1</td>\n",
       "      <td>1</td>\n",
       "    </tr>\n",
       "  </tbody>\n",
       "</table>\n",
       "</div>"
      ],
      "text/plain": [
       "   No.                            Attraction Name  Typical Expenditure (SGD)  \\\n",
       "0    1                         Gardens by the Bay                         28   \n",
       "1    2  Marina Bay Sands SkyPark Observation Deck                         26   \n",
       "2    3                              Singapore Zoo                         50   \n",
       "3    4                              River Wonders                         40   \n",
       "4    5                              Bird Paradise                         38   \n",
       "\n",
       "   Typical Time Spent (hours)  Family Tourist  Backpacker  Influencer  \\\n",
       "0                         3.0               8           7           9   \n",
       "1                         1.0               9           6           9   \n",
       "2                         4.0               9           6           8   \n",
       "3                         3.0               8           1           8   \n",
       "4                         3.0               8           1           9   \n",
       "\n",
       "   Cultural Enthusiast  Thrill Seeker  Nature Lover  Shopping Enthusiast  \n",
       "0                    1              1            10                    1  \n",
       "1                    7              6             7                    7  \n",
       "2                    7              1             7                    1  \n",
       "3                    1              1             1                    1  \n",
       "4                    1              6             1                    1  "
      ]
     },
     "execution_count": 46,
     "metadata": {},
     "output_type": "execute_result"
    }
   ],
   "source": [
    "df_a = pd.read_csv(\"singapore_67_attractions_with_scores.csv\")\n",
    "df_a.head()"
   ]
  },
  {
   "cell_type": "code",
   "execution_count": 48,
   "metadata": {},
   "outputs": [],
   "source": [
    "attraction_names_kb = df_a[\"Attraction Name\"].to_list()"
   ]
  },
  {
   "cell_type": "code",
   "execution_count": 49,
   "metadata": {},
   "outputs": [
    {
     "data": {
      "text/html": [
       "<div>\n",
       "<style scoped>\n",
       "    .dataframe tbody tr th:only-of-type {\n",
       "        vertical-align: middle;\n",
       "    }\n",
       "\n",
       "    .dataframe tbody tr th {\n",
       "        vertical-align: top;\n",
       "    }\n",
       "\n",
       "    .dataframe thead th {\n",
       "        text-align: right;\n",
       "    }\n",
       "</style>\n",
       "<table border=\"1\" class=\"dataframe\">\n",
       "  <thead>\n",
       "    <tr style=\"text-align: right;\">\n",
       "      <th></th>\n",
       "      <th>No.</th>\n",
       "      <th>Name</th>\n",
       "      <th>Ratings (Google Reviews)</th>\n",
       "      <th>Highlights</th>\n",
       "      <th>Family Tourist</th>\n",
       "      <th>Backpacker</th>\n",
       "      <th>Influencer</th>\n",
       "      <th>Cultural Enthusiast</th>\n",
       "      <th>Thrill Seeker</th>\n",
       "      <th>Nature Lover</th>\n",
       "      <th>Shopping Enthusiast</th>\n",
       "    </tr>\n",
       "  </thead>\n",
       "  <tbody>\n",
       "    <tr>\n",
       "      <th>0</th>\n",
       "      <td>1</td>\n",
       "      <td>Lau Pa Sat</td>\n",
       "      <td>4.4</td>\n",
       "      <td>Housed in a historic Victorian-era building, L...</td>\n",
       "      <td>9</td>\n",
       "      <td>10</td>\n",
       "      <td>10</td>\n",
       "      <td>10</td>\n",
       "      <td>5</td>\n",
       "      <td>5</td>\n",
       "      <td>7</td>\n",
       "    </tr>\n",
       "    <tr>\n",
       "      <th>1</th>\n",
       "      <td>2</td>\n",
       "      <td>Amoy Street Food Centre</td>\n",
       "      <td>4.3</td>\n",
       "      <td>Popular among office workers, this center feat...</td>\n",
       "      <td>9</td>\n",
       "      <td>10</td>\n",
       "      <td>10</td>\n",
       "      <td>10</td>\n",
       "      <td>5</td>\n",
       "      <td>5</td>\n",
       "      <td>7</td>\n",
       "    </tr>\n",
       "    <tr>\n",
       "      <th>2</th>\n",
       "      <td>3</td>\n",
       "      <td>Hill Street Tai Hwa Pork Noodle</td>\n",
       "      <td>3.9</td>\n",
       "      <td>Awarded one Michelin star, this stall is famou...</td>\n",
       "      <td>9</td>\n",
       "      <td>10</td>\n",
       "      <td>8</td>\n",
       "      <td>5</td>\n",
       "      <td>5</td>\n",
       "      <td>5</td>\n",
       "      <td>5</td>\n",
       "    </tr>\n",
       "    <tr>\n",
       "      <th>3</th>\n",
       "      <td>4</td>\n",
       "      <td>​Chinatown Complex Food Centre​</td>\n",
       "      <td>4.2</td>\n",
       "      <td>The largest hawker centre in Singapore, housi...</td>\n",
       "      <td>9</td>\n",
       "      <td>10</td>\n",
       "      <td>10</td>\n",
       "      <td>10</td>\n",
       "      <td>5</td>\n",
       "      <td>5</td>\n",
       "      <td>7</td>\n",
       "    </tr>\n",
       "    <tr>\n",
       "      <th>4</th>\n",
       "      <td>5</td>\n",
       "      <td>Sungei Road Laksa</td>\n",
       "      <td>4.2</td>\n",
       "      <td>A historic stall known for its flavorful laksa...</td>\n",
       "      <td>9</td>\n",
       "      <td>10</td>\n",
       "      <td>8</td>\n",
       "      <td>7</td>\n",
       "      <td>2</td>\n",
       "      <td>10</td>\n",
       "      <td>5</td>\n",
       "    </tr>\n",
       "  </tbody>\n",
       "</table>\n",
       "</div>"
      ],
      "text/plain": [
       "   No.                             Name  Ratings (Google Reviews)  \\\n",
       "0    1                       Lau Pa Sat                       4.4   \n",
       "1    2          Amoy Street Food Centre                       4.3   \n",
       "2    3  Hill Street Tai Hwa Pork Noodle                       3.9   \n",
       "3    4  ​Chinatown Complex Food Centre​                       4.2   \n",
       "4    5                Sungei Road Laksa                       4.2   \n",
       "\n",
       "                                          Highlights  Family Tourist  \\\n",
       "0  Housed in a historic Victorian-era building, L...               9   \n",
       "1  Popular among office workers, this center feat...               9   \n",
       "2  Awarded one Michelin star, this stall is famou...               9   \n",
       "3   The largest hawker centre in Singapore, housi...               9   \n",
       "4  A historic stall known for its flavorful laksa...               9   \n",
       "\n",
       "   Backpacker  Influencer  Cultural Enthusiast  Thrill Seeker  Nature Lover  \\\n",
       "0          10          10                   10              5             5   \n",
       "1          10          10                   10              5             5   \n",
       "2          10           8                    5              5             5   \n",
       "3          10          10                   10              5             5   \n",
       "4          10           8                    7              2            10   \n",
       "\n",
       "   Shopping Enthusiast  \n",
       "0                    7  \n",
       "1                    7  \n",
       "2                    5  \n",
       "3                    7  \n",
       "4                    5  "
      ]
     },
     "execution_count": 49,
     "metadata": {},
     "output_type": "execute_result"
    }
   ],
   "source": [
    "df_h = pd.read_csv(\"singapore_20_food_with_scores.csv\")\n",
    "df_h.head()"
   ]
  },
  {
   "cell_type": "code",
   "execution_count": 53,
   "metadata": {},
   "outputs": [
    {
     "data": {
      "text/plain": [
       "['Lau Pa Sat',\n",
       " 'Amoy Street Food Centre',\n",
       " 'Hill Street Tai Hwa Pork Noodle',\n",
       " '\\u200bChinatown Complex Food Centre\\u200b',\n",
       " 'Sungei Road Laksa',\n",
       " \"Muthu's Curry - Little India\",\n",
       " 'Tekka Centre',\n",
       " '\\u200bMaxwell Food Centre',\n",
       " 'One Punggol Hawker Centre',\n",
       " 'East Coast Lagoon Food Village',\n",
       " 'Changi Village Hawker Centre',\n",
       " '328 Katong Laksa',\n",
       " 'Orchard Yong Tau Foo',\n",
       " 'Kok Kee Wonton Noodle (Foch Road)',\n",
       " 'Tangs Market',\n",
       " 'Food Opera ION Orchard',\n",
       " 'Liao Fan Hawker Chan',\n",
       " 'Tekka Centre',\n",
       " 'Teck Ghee Court Market & Food Centre',\n",
       " 'Singapore Zam Zam Restaurant']"
      ]
     },
     "execution_count": 53,
     "metadata": {},
     "output_type": "execute_result"
    }
   ],
   "source": [
    "hawker_names_kb = df_h[\"Name\"].to_list()\n",
    "hawker_names_kb"
   ]
  },
  {
   "cell_type": "code",
   "execution_count": 51,
   "metadata": {},
   "outputs": [],
   "source": [
    "filtered_hawker_names = [name for name in hawker_names_llm if name in hawker_names_kb]\n"
   ]
  },
  {
   "cell_type": "code",
   "execution_count": 52,
   "metadata": {},
   "outputs": [
    {
     "data": {
      "text/plain": [
       "['Tangs Market', 'Singapore Zam Zam Restaurant']"
      ]
     },
     "execution_count": 52,
     "metadata": {},
     "output_type": "execute_result"
    }
   ],
   "source": [
    "filtered_hawker_names"
   ]
  },
  {
   "cell_type": "code",
   "execution_count": 56,
   "metadata": {},
   "outputs": [],
   "source": [
    "filtered_attraction_names = [name for name in attraction_names_llm if name in attraction_names_kb]\n"
   ]
  },
  {
   "cell_type": "code",
   "execution_count": null,
   "metadata": {},
   "outputs": [
    {
     "data": {
      "text/plain": [
       "['Suntec City Shopping Centre',\n",
       " 'Clarke Quay',\n",
       " 'ArtScience Museum',\n",
       " 'National Gallery Singapore']"
      ]
     },
     "execution_count": 58,
     "metadata": {},
     "output_type": "execute_result"
    }
   ],
   "source": [
    "filtered_attraction_names"
   ]
  },
  {
   "cell_type": "code",
   "execution_count": 62,
   "metadata": {},
   "outputs": [
    {
     "data": {
      "text/plain": [
       "26"
      ]
     },
     "execution_count": 62,
     "metadata": {},
     "output_type": "execute_result"
    }
   ],
   "source": [
    "import random\n",
    "# Get the attractions not in the filtered list\n",
    "remaining_attractions = [name for name in attraction_names_kb if name not in filtered_attraction_names]\n",
    "\n",
    "# Randomly sample 10 (or fewer if less than 10 remain)\n",
    "at_least_ = 30\n",
    "num_to_take = at_least_ - len(filtered_attraction_names)\n",
    "num_to_take"
   ]
  },
  {
   "cell_type": "code",
   "execution_count": 65,
   "metadata": {},
   "outputs": [
    {
     "data": {
      "text/plain": [
       "['Bukit Timah Nature Reserve',\n",
       " 'Science Centre Singapore',\n",
       " 'Reflections at Bukit Chandu',\n",
       " 'Snow City',\n",
       " 'Asian Civilisations Museum',\n",
       " 'National Museum of Singapore',\n",
       " 'Wave House Sentosa',\n",
       " 'Haw Par Villa',\n",
       " 'Marina Barrage',\n",
       " 'Little India',\n",
       " 'Universal Studios Singapore',\n",
       " 'iFly Singapore',\n",
       " 'Fort Siloso',\n",
       " 'Mount Faber Park',\n",
       " 'HortPark',\n",
       " 'Peranakan Museum',\n",
       " 'Thian Hock Keng Temple',\n",
       " 'Kwan Im Thong Hood Cho Temple',\n",
       " 'Sri Mariamman Temple',\n",
       " 'Chinatown',\n",
       " 'Henderson Waves',\n",
       " 'Telok Blangah Hill Park',\n",
       " 'Buddha Tooth Relic Temple',\n",
       " 'Ice Cream Museum',\n",
       " 'Battlebox',\n",
       " 'Fort Canning Park']"
      ]
     },
     "execution_count": 65,
     "metadata": {},
     "output_type": "execute_result"
    }
   ],
   "source": [
    "sampled_attractions = random.sample(remaining_attractions, k=min(num_to_take, len(remaining_attractions)))\n",
    "sampled_attractions"
   ]
  },
  {
   "cell_type": "code",
   "execution_count": 71,
   "metadata": {},
   "outputs": [],
   "source": [
    "# Step 1: Filter rows\n",
    "filtered_rows = df_a[df_a['Attraction Name'].isin(sampled_attractions)]\n",
    "\n",
    "# Step 2: Convert to list of dictionaries\n",
    "new_data = []\n",
    "for _, row in filtered_rows.iterrows():\n",
    "    attraction_dict = {\n",
    "        'Hawker Name': None,  # Leave blank or remove if not needed\n",
    "        'Attraction Name': row['Attraction Name'],\n",
    "        'Description': \"NA.\",\n",
    "        'Rating': 2.5,  # normal to the person\n",
    "        'Satisfaction Score': 2.5,  # normal to the person\n",
    "        'Entrance Fee': 10.0,\n",
    "        'Duration': 120,\n",
    "        'Sources': [\"NA\"]\n",
    "    }\n",
    "    new_data.append(attraction_dict)"
   ]
  },
  {
   "cell_type": "code",
   "execution_count": 75,
   "metadata": {},
   "outputs": [],
   "source": [
    "data['Attraction'].extend(new_data)"
   ]
  },
  {
   "cell_type": "code",
   "execution_count": 79,
   "metadata": {},
   "outputs": [
    {
     "data": {
      "text/plain": [
       "30"
      ]
     },
     "execution_count": 79,
     "metadata": {},
     "output_type": "execute_result"
    }
   ],
   "source": [
    "len(data[\"Attraction\"])"
   ]
  },
  {
   "cell_type": "code",
   "execution_count": null,
   "metadata": {},
   "outputs": [],
   "source": []
  }
 ],
 "metadata": {
  "kernelspec": {
   "display_name": "travelplanner_decisionmaker",
   "language": "python",
   "name": "python3"
  },
  "language_info": {
   "codemirror_mode": {
    "name": "ipython",
    "version": 3
   },
   "file_extension": ".py",
   "mimetype": "text/x-python",
   "name": "python",
   "nbconvert_exporter": "python",
   "pygments_lexer": "ipython3",
   "version": "3.10.16"
  }
 },
 "nbformat": 4,
 "nbformat_minor": 2
}
