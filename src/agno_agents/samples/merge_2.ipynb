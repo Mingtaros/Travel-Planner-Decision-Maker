{
 "cells": [
  {
   "cell_type": "code",
   "execution_count": 7,
   "metadata": {},
   "outputs": [],
   "source": [
    "import json\n",
    "import pandas as pd\n",
    "import random"
   ]
  },
  {
   "cell_type": "code",
   "execution_count": 30,
   "metadata": {},
   "outputs": [],
   "source": [
    "def get_combine_json_data(path = \"POI_data.json\", at_least_hawker = 10, at_least_attraction = 30):\n",
    "    # Read the JSON file\n",
    "    with open(path, \"r\", encoding=\"utf-8\") as file:\n",
    "        data = json.load(file)\n",
    "\n",
    "    ### This is for Hawker\n",
    "    hawker_names_llm = [entry['Hawker Name'] for entry in data[\"Hawker\"]]\n",
    "    df_h = pd.read_csv(\"singapore_20_food_with_scores.csv\")\n",
    "    hawker_names_kb = df_h[\"Hawker Name\"].to_list()\n",
    "    filtered_hawker_names = [name for name in hawker_names_llm if name in hawker_names_kb]\n",
    "    remaining_hawkers = [name for name in hawker_names_kb if name not in filtered_hawker_names]\n",
    "    num_to_take_hawker = at_least_hawker - len(filtered_hawker_names)\n",
    "    print(num_to_take_hawker)\n",
    "    sampled_hawkers = random.sample(remaining_hawkers, k=min(num_to_take_hawker, len(remaining_hawkers)))\n",
    "    filtered_rows_h = df_h[df_h['Hawker Name'].isin(sampled_hawkers)]\n",
    "\n",
    "    # Step 2: Convert to list of dictionaries\n",
    "    new_data = []\n",
    "    for _, row in filtered_rows_h.iterrows():\n",
    "        hawker_dict = {\n",
    "            'Hawker Name': row['Hawker Name'],\n",
    "            'Description': \"NA.\",\n",
    "            'Rating': 2.5,  # normal to the person\n",
    "            'Satisfaction Score': 2.5,  # normal to the person\n",
    "            'Entrance Fee': 5.0,\n",
    "            'Duration': 60,\n",
    "            'Sources': [\"NA\"]\n",
    "        }\n",
    "        new_data.append(hawker_dict)\n",
    "    # print(new_data)\n",
    "    data['Hawker'].extend(new_data)\n",
    "\n",
    "    ### This is for Attractions\n",
    "    attraction_names_llm = [entry['Attraction Name'] for entry in data[\"Attraction\"]]\n",
    "    df_a = pd.read_csv(\"singapore_67_attractions_with_scores.csv\")\n",
    "    attraction_names_kb = df_a[\"Attraction Name\"].to_list()\n",
    "    filtered_attraction_names = [name for name in attraction_names_llm if name in attraction_names_kb]\n",
    "    remaining_attractions = [name for name in attraction_names_kb if name not in filtered_attraction_names]\n",
    "    num_to_take_attraction = at_least_attraction - len(filtered_attraction_names)\n",
    "    sampled_attractins = random.sample(remaining_attractions, k=min(num_to_take_attraction, len(remaining_attractions)))\n",
    "\n",
    "    filtered_rows_a = df_a[df_a['Attraction Name'].isin(sampled_attractins)]\n",
    "\n",
    "    # Step 2: Convert to list of dictionaries\n",
    "    new_data = []\n",
    "    for _, row in filtered_rows_a.iterrows():\n",
    "        attraction_dict = {\n",
    "            'Hawker Name': None,  # Leave blank or remove if not needed\n",
    "            'Attraction Name': row['Attraction Name'],\n",
    "            'Description': \"NA.\",\n",
    "            'Rating': 2.5,  # normal to the person\n",
    "            'Satisfaction Score': 2.5,  # normal to the person\n",
    "            'Entrance Fee': 10.0,\n",
    "            'Duration': 120,\n",
    "            'Sources': [\"NA\"]\n",
    "        }\n",
    "        new_data.append(attraction_dict)\n",
    "\n",
    "    data['Attraction'].extend(new_data)\n",
    "\n",
    "    return data"
   ]
  },
  {
   "cell_type": "code",
   "execution_count": 31,
   "metadata": {},
   "outputs": [
    {
     "name": "stdout",
     "output_type": "stream",
     "text": [
      "8\n"
     ]
    },
    {
     "data": {
      "text/plain": [
       "13"
      ]
     },
     "execution_count": 31,
     "metadata": {},
     "output_type": "execute_result"
    }
   ],
   "source": [
    "len(get_combine_json_data()[\"Hawker\"])"
   ]
  },
  {
   "cell_type": "code",
   "execution_count": 29,
   "metadata": {},
   "outputs": [
    {
     "data": {
      "text/plain": [
       "30"
      ]
     },
     "execution_count": 29,
     "metadata": {},
     "output_type": "execute_result"
    }
   ],
   "source": [
    "len(get_combine_json_data()[\"Attraction\"])"
   ]
  },
  {
   "cell_type": "code",
   "execution_count": 42,
   "metadata": {},
   "outputs": [],
   "source": [
    "def get_combine_json_data(path=\"POI_data.json\", at_least_hawker=10, at_least_attraction=30):\n",
    "    # Load existing JSON data\n",
    "    with open(path, \"r\", encoding=\"utf-8\") as file:\n",
    "        data = json.load(file)\n",
    "\n",
    "    ### --- Load Knowledge Base CSVs ---\n",
    "    df_h = pd.read_csv(\"singapore_20_food_with_scores.csv\")\n",
    "    hawker_names_kb = df_h[\"Hawker Name\"].tolist()\n",
    "\n",
    "    df_a = pd.read_csv(\"singapore_67_attractions_with_scores.csv\")\n",
    "    attraction_names_kb = df_a[\"Attraction Name\"].tolist()\n",
    "\n",
    "    ### --- Clean Hawkers: Keep only those in KB ---\n",
    "    data['Hawker'] = [entry for entry in data['Hawker'] if entry['Hawker Name'] in hawker_names_kb]\n",
    "\n",
    "    # Deduplicate by Hawker Name\n",
    "    data['Hawker'] = list({entry['Hawker Name']: entry for entry in data['Hawker']}.values())\n",
    "\n",
    "    hawker_names_existing = [entry['Hawker Name'] for entry in data['Hawker']]\n",
    "    filtered_hawker_names = [name for name in hawker_names_existing if name in hawker_names_kb]\n",
    "    remaining_hawkers = [name for name in hawker_names_kb if name not in filtered_hawker_names]\n",
    "    num_to_take_hawker = at_least_hawker - len(filtered_hawker_names)\n",
    "    print(f\"Need to add {num_to_take_hawker} hawkers to reach {at_least_hawker}\")\n",
    "\n",
    "    sampled_hawkers = random.sample(remaining_hawkers, k=min(num_to_take_hawker, len(remaining_hawkers)))\n",
    "    filtered_rows_h = df_h[df_h['Hawker Name'].isin(sampled_hawkers)]\n",
    "\n",
    "    new_hawkers = []\n",
    "    for _, row in filtered_rows_h.iterrows():\n",
    "        hawker_dict = {\n",
    "            'Hawker Name': row['Hawker Name'],\n",
    "            'Description': \"NA.\",\n",
    "            'Rating': 2.5,\n",
    "            'Satisfaction Score': 2.5,\n",
    "            'Entrance Fee': 5.0,\n",
    "            'Duration': 60,\n",
    "            'Sources': [\"NA\"]\n",
    "        }\n",
    "        new_hawkers.append(hawker_dict)\n",
    "\n",
    "    data['Hawker'].extend(new_hawkers)\n",
    "\n",
    "    ### --- Clean Attractions: Keep only those in KB ---\n",
    "    data['Attraction'] = [entry for entry in data['Attraction'] if entry['Attraction Name'] in attraction_names_kb]\n",
    "\n",
    "    # Deduplicate by Attraction Name\n",
    "    data['Attraction'] = list({entry['Attraction Name']: entry for entry in data['Attraction']}.values())\n",
    "\n",
    "    attraction_names_existing = [entry['Attraction Name'] for entry in data['Attraction']]\n",
    "    filtered_attraction_names = [name for name in attraction_names_existing if name in attraction_names_kb]\n",
    "    remaining_attractions = [name for name in attraction_names_kb if name not in filtered_attraction_names]\n",
    "    num_to_take_attraction = at_least_attraction - len(filtered_attraction_names)\n",
    "    print(f\"Need to add {num_to_take_attraction} attractions to reach {at_least_attraction}\")\n",
    "\n",
    "    sampled_attractions = random.sample(remaining_attractions, k=min(num_to_take_attraction, len(remaining_attractions)))\n",
    "    filtered_rows_a = df_a[df_a['Attraction Name'].isin(sampled_attractions)]\n",
    "\n",
    "    new_attractions = []\n",
    "    for _, row in filtered_rows_a.iterrows():\n",
    "        attraction_dict = {\n",
    "            'Hawker Name': None,\n",
    "            'Attraction Name': row['Attraction Name'],\n",
    "            'Description': \"NA.\",\n",
    "            'Rating': 2.5,\n",
    "            'Satisfaction Score': 2.5,\n",
    "            'Entrance Fee': 10.0,\n",
    "            'Duration': 120,\n",
    "            'Sources': [\"NA\"]\n",
    "        }\n",
    "        new_attractions.append(attraction_dict)\n",
    "\n",
    "    data['Attraction'].extend(new_attractions)\n",
    "\n",
    "    return data"
   ]
  },
  {
   "cell_type": "code",
   "execution_count": 43,
   "metadata": {},
   "outputs": [
    {
     "name": "stdout",
     "output_type": "stream",
     "text": [
      "Need to add 8 hawkers to reach 10\n",
      "Need to add 26 attractions to reach 30\n",
      "Total unique Hawkers: 10\n"
     ]
    }
   ],
   "source": [
    "output_data = get_combine_json_data()\n",
    "print(f\"Total unique Hawkers: {len({h['Hawker Name'] for h in output_data['Hawker']})}\")"
   ]
  },
  {
   "cell_type": "code",
   "execution_count": 44,
   "metadata": {},
   "outputs": [
    {
     "data": {
      "text/plain": [
       "[{'Hawker Name': 'Tangs Market',\n",
       "  'Dish Name': 'Chili Ban Mian',\n",
       "  'Description': 'A bowl of noodles with a rich chili sauce, offering a spicy kick.',\n",
       "  'Satisfaction Score': 4.0,\n",
       "  'Rating': 4.0,\n",
       "  'Avg Food Price': 5.0,\n",
       "  'Duration': 60,\n",
       "  'Sources': ['https://www.yelp.com/biz/tangs-market-singapore',\n",
       "   'https://www.pricelisto.com/menu-prices/tangs-market-sg']},\n",
       " {'Hawker Name': 'Singapore Zam Zam Restaurant',\n",
       "  'Dish Name': 'Murtabak',\n",
       "  'Description': 'A savory stuffed pancake filled with spiced meat, a popular Indian-Muslim dish.',\n",
       "  'Satisfaction Score': 4.6,\n",
       "  'Rating': 4.6,\n",
       "  'Avg Food Price': 6.0,\n",
       "  'Duration': 60,\n",
       "  'Sources': ['https://eatzeely.com/zam-zam-restaurant-menu-prices-singapore/',\n",
       "   'https://www.singmenu.com/zam-zam-restaurant-menu/']},\n",
       " {'Hawker Name': 'Amoy Street Food Centre',\n",
       "  'Description': 'NA.',\n",
       "  'Rating': 2.5,\n",
       "  'Satisfaction Score': 2.5,\n",
       "  'Entrance Fee': 5.0,\n",
       "  'Duration': 60,\n",
       "  'Sources': ['NA']},\n",
       " {'Hawker Name': 'Tekka Centre',\n",
       "  'Description': 'NA.',\n",
       "  'Rating': 2.5,\n",
       "  'Satisfaction Score': 2.5,\n",
       "  'Entrance Fee': 5.0,\n",
       "  'Duration': 60,\n",
       "  'Sources': ['NA']},\n",
       " {'Hawker Name': 'One Punggol Hawker Centre',\n",
       "  'Description': 'NA.',\n",
       "  'Rating': 2.5,\n",
       "  'Satisfaction Score': 2.5,\n",
       "  'Entrance Fee': 5.0,\n",
       "  'Duration': 60,\n",
       "  'Sources': ['NA']},\n",
       " {'Hawker Name': 'East Coast Lagoon Food Village',\n",
       "  'Description': 'NA.',\n",
       "  'Rating': 2.5,\n",
       "  'Satisfaction Score': 2.5,\n",
       "  'Entrance Fee': 5.0,\n",
       "  'Duration': 60,\n",
       "  'Sources': ['NA']},\n",
       " {'Hawker Name': '328 Katong Laksa',\n",
       "  'Description': 'NA.',\n",
       "  'Rating': 2.5,\n",
       "  'Satisfaction Score': 2.5,\n",
       "  'Entrance Fee': 5.0,\n",
       "  'Duration': 60,\n",
       "  'Sources': ['NA']},\n",
       " {'Hawker Name': 'Food Opera ION Orchard',\n",
       "  'Description': 'NA.',\n",
       "  'Rating': 2.5,\n",
       "  'Satisfaction Score': 2.5,\n",
       "  'Entrance Fee': 5.0,\n",
       "  'Duration': 60,\n",
       "  'Sources': ['NA']},\n",
       " {'Hawker Name': 'Liao Fan Hawker Chan',\n",
       "  'Description': 'NA.',\n",
       "  'Rating': 2.5,\n",
       "  'Satisfaction Score': 2.5,\n",
       "  'Entrance Fee': 5.0,\n",
       "  'Duration': 60,\n",
       "  'Sources': ['NA']},\n",
       " {'Hawker Name': 'Tekka Centre',\n",
       "  'Description': 'NA.',\n",
       "  'Rating': 2.5,\n",
       "  'Satisfaction Score': 2.5,\n",
       "  'Entrance Fee': 5.0,\n",
       "  'Duration': 60,\n",
       "  'Sources': ['NA']},\n",
       " {'Hawker Name': 'Teck Ghee Court Market & Food Centre',\n",
       "  'Description': 'NA.',\n",
       "  'Rating': 2.5,\n",
       "  'Satisfaction Score': 2.5,\n",
       "  'Entrance Fee': 5.0,\n",
       "  'Duration': 60,\n",
       "  'Sources': ['NA']}]"
      ]
     },
     "execution_count": 44,
     "metadata": {},
     "output_type": "execute_result"
    }
   ],
   "source": [
    "output_data[\"Hawker\"]"
   ]
  },
  {
   "cell_type": "code",
   "execution_count": null,
   "metadata": {},
   "outputs": [],
   "source": []
  }
 ],
 "metadata": {
  "kernelspec": {
   "display_name": "travelplanner_decisionmaker",
   "language": "python",
   "name": "python3"
  },
  "language_info": {
   "codemirror_mode": {
    "name": "ipython",
    "version": 3
   },
   "file_extension": ".py",
   "mimetype": "text/x-python",
   "name": "python",
   "nbconvert_exporter": "python",
   "pygments_lexer": "ipython3",
   "version": "3.10.16"
  }
 },
 "nbformat": 4,
 "nbformat_minor": 2
}
